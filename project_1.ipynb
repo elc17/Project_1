{
 "cells": [
  {
   "cell_type": "code",
   "execution_count": 57,
   "metadata": {},
   "outputs": [],
   "source": [
    "# Import dependencies\n",
    "import pandas as pd\n",
    "import scipy.stats as st\n",
    "from  matplotlib import pyplot as plt\n",
    "import csv\n",
    "import os"
   ]
  },
  {
   "cell_type": "code",
   "execution_count": 6,
   "metadata": {},
   "outputs": [
    {
     "data": {
      "text/html": [
       "<div>\n",
       "<style scoped>\n",
       "    .dataframe tbody tr th:only-of-type {\n",
       "        vertical-align: middle;\n",
       "    }\n",
       "\n",
       "    .dataframe tbody tr th {\n",
       "        vertical-align: top;\n",
       "    }\n",
       "\n",
       "    .dataframe thead th {\n",
       "        text-align: right;\n",
       "    }\n",
       "</style>\n",
       "<table border=\"1\" class=\"dataframe\">\n",
       "  <thead>\n",
       "    <tr style=\"text-align: right;\">\n",
       "      <th></th>\n",
       "      <th>id</th>\n",
       "      <th>name</th>\n",
       "      <th>host_id</th>\n",
       "      <th>host_name</th>\n",
       "      <th>neighbourhood</th>\n",
       "      <th>latitude</th>\n",
       "      <th>longitude</th>\n",
       "      <th>room_type</th>\n",
       "      <th>price</th>\n",
       "      <th>minimum_nights</th>\n",
       "      <th>number_of_reviews</th>\n",
       "      <th>last_review</th>\n",
       "      <th>reviews_per_month</th>\n",
       "      <th>calculated_host_listings_count</th>\n",
       "      <th>availability_365</th>\n",
       "    </tr>\n",
       "  </thead>\n",
       "  <tbody>\n",
       "    <tr>\n",
       "      <td>1</td>\n",
       "      <td>22787</td>\n",
       "      <td>Sunny suite w/ queen size bed, inside boutique...</td>\n",
       "      <td>87973</td>\n",
       "      <td>Diego</td>\n",
       "      <td>Cuauhtémoc</td>\n",
       "      <td>19.44076</td>\n",
       "      <td>-99.16324</td>\n",
       "      <td>Private room</td>\n",
       "      <td>1969</td>\n",
       "      <td>1</td>\n",
       "      <td>57</td>\n",
       "      <td>2019-05-27</td>\n",
       "      <td>0.52</td>\n",
       "      <td>9</td>\n",
       "      <td>355</td>\n",
       "    </tr>\n",
       "    <tr>\n",
       "      <td>4</td>\n",
       "      <td>44616</td>\n",
       "      <td>CONDESA HAUS  B&amp;B</td>\n",
       "      <td>196253</td>\n",
       "      <td>Condesa Haus Bed &amp; Breakfast  CDMX</td>\n",
       "      <td>Cuauhtémoc</td>\n",
       "      <td>19.41006</td>\n",
       "      <td>-99.17645</td>\n",
       "      <td>Private room</td>\n",
       "      <td>1893</td>\n",
       "      <td>1</td>\n",
       "      <td>39</td>\n",
       "      <td>2019-05-02</td>\n",
       "      <td>0.42</td>\n",
       "      <td>10</td>\n",
       "      <td>334</td>\n",
       "    </tr>\n",
       "    <tr>\n",
       "      <td>5</td>\n",
       "      <td>58955</td>\n",
       "      <td>Entire beautiful duplex in la Roma</td>\n",
       "      <td>282620</td>\n",
       "      <td>Nat</td>\n",
       "      <td>Cuauhtémoc</td>\n",
       "      <td>19.42292</td>\n",
       "      <td>-99.15775</td>\n",
       "      <td>Entire home/apt</td>\n",
       "      <td>1625</td>\n",
       "      <td>3</td>\n",
       "      <td>39</td>\n",
       "      <td>2019-05-28</td>\n",
       "      <td>0.43</td>\n",
       "      <td>1</td>\n",
       "      <td>178</td>\n",
       "    </tr>\n",
       "    <tr>\n",
       "      <td>6</td>\n",
       "      <td>61792</td>\n",
       "      <td>Spacious Clean Quiet room (own bath) in la Con...</td>\n",
       "      <td>299558</td>\n",
       "      <td>Roberto</td>\n",
       "      <td>Cuauhtémoc</td>\n",
       "      <td>19.41259</td>\n",
       "      <td>-99.17959</td>\n",
       "      <td>Private room</td>\n",
       "      <td>956</td>\n",
       "      <td>2</td>\n",
       "      <td>51</td>\n",
       "      <td>2019-04-05</td>\n",
       "      <td>2.55</td>\n",
       "      <td>3</td>\n",
       "      <td>180</td>\n",
       "    </tr>\n",
       "    <tr>\n",
       "      <td>7</td>\n",
       "      <td>67703</td>\n",
       "      <td>2 bedroom apt. deco bldg, Condesa</td>\n",
       "      <td>334451</td>\n",
       "      <td>Nicholas</td>\n",
       "      <td>Cuauhtémoc</td>\n",
       "      <td>19.41375</td>\n",
       "      <td>-99.17028</td>\n",
       "      <td>Entire home/apt</td>\n",
       "      <td>1816</td>\n",
       "      <td>2</td>\n",
       "      <td>39</td>\n",
       "      <td>2019-02-24</td>\n",
       "      <td>0.42</td>\n",
       "      <td>3</td>\n",
       "      <td>361</td>\n",
       "    </tr>\n",
       "  </tbody>\n",
       "</table>\n",
       "</div>"
      ],
      "text/plain": [
       "      id                                               name  host_id  \\\n",
       "1  22787  Sunny suite w/ queen size bed, inside boutique...    87973   \n",
       "4  44616                                  CONDESA HAUS  B&B   196253   \n",
       "5  58955                 Entire beautiful duplex in la Roma   282620   \n",
       "6  61792  Spacious Clean Quiet room (own bath) in la Con...   299558   \n",
       "7  67703                  2 bedroom apt. deco bldg, Condesa   334451   \n",
       "\n",
       "                            host_name neighbourhood  latitude  longitude  \\\n",
       "1                               Diego    Cuauhtémoc  19.44076  -99.16324   \n",
       "4  Condesa Haus Bed & Breakfast  CDMX    Cuauhtémoc  19.41006  -99.17645   \n",
       "5                                 Nat    Cuauhtémoc  19.42292  -99.15775   \n",
       "6                             Roberto    Cuauhtémoc  19.41259  -99.17959   \n",
       "7                            Nicholas    Cuauhtémoc  19.41375  -99.17028   \n",
       "\n",
       "         room_type  price  minimum_nights  number_of_reviews last_review  \\\n",
       "1     Private room   1969               1                 57  2019-05-27   \n",
       "4     Private room   1893               1                 39  2019-05-02   \n",
       "5  Entire home/apt   1625               3                 39  2019-05-28   \n",
       "6     Private room    956               2                 51  2019-04-05   \n",
       "7  Entire home/apt   1816               2                 39  2019-02-24   \n",
       "\n",
       "   reviews_per_month  calculated_host_listings_count  availability_365  \n",
       "1               0.52                               9               355  \n",
       "4               0.42                              10               334  \n",
       "5               0.43                               1               178  \n",
       "6               2.55                               3               180  \n",
       "7               0.42                               3               361  "
      ]
     },
     "execution_count": 6,
     "metadata": {},
     "output_type": "execute_result"
    }
   ],
   "source": [
    "data_df = pd.read_csv(\"listings1.csv\")\n",
    "data_df = data_df.drop(\"neighbourhood_group\", axis = 1)\n",
    "data_df = data_df.dropna()\n",
    "data_df.head()"
   ]
  },
  {
   "cell_type": "code",
   "execution_count": 7,
   "metadata": {},
   "outputs": [],
   "source": [
    "# cal_df = pd.read_csv(\"calendar.csv\")\n",
    "# cal_df.head()\n",
    "# list_df = pd.read_csv(\"listings.csv\")\n",
    "# list_df.head()"
   ]
  },
  {
   "cell_type": "code",
   "execution_count": 8,
   "metadata": {},
   "outputs": [
    {
     "data": {
      "text/plain": [
       "Cuauhtémoc                6092\n",
       "Miguel Hidalgo            2281\n",
       "Benito Juárez             2221\n",
       "Coyoacán                  1176\n",
       "Álvaro Obregón             589\n",
       "Tlalpan                    504\n",
       "Cuajimalpa de Morelos      284\n",
       "Venustiano Carranza        261\n",
       "Gustavo A. Madero          181\n",
       "Iztacalco                  169\n",
       "Azcapotzalco               132\n",
       "Iztapalapa                 105\n",
       "La Magdalena Contreras      87\n",
       "Xochimilco                  52\n",
       "Tláhuac                     15\n",
       "Milpa Alta                   5\n",
       "Name: neighbourhood, dtype: int64"
      ]
     },
     "execution_count": 8,
     "metadata": {},
     "output_type": "execute_result"
    }
   ],
   "source": [
    "# Count places where the most airbnb are available\n",
    "data_df[\"neighbourhood\"].value_counts()"
   ]
  },
  {
   "cell_type": "code",
   "execution_count": 9,
   "metadata": {},
   "outputs": [
    {
     "data": {
      "text/plain": [
       "neighbourhood   minimum_nights\n",
       "Azcapotzalco    1                 79\n",
       "                2                 34\n",
       "                3                  8\n",
       "                7                  7\n",
       "                4                  1\n",
       "                                  ..\n",
       "Álvaro Obregón  90                 2\n",
       "                8                  1\n",
       "                14                 1\n",
       "                30                 1\n",
       "                110                1\n",
       "Name: minimum_nights, Length: 180, dtype: int64"
      ]
     },
     "execution_count": 9,
     "metadata": {},
     "output_type": "execute_result"
    }
   ],
   "source": [
    "# Count the airbnb minimum nights per neighbourhood\n",
    "data_df.groupby([\"neighbourhood\"])[\"minimum_nights\"].value_counts()"
   ]
  },
  {
   "cell_type": "code",
   "execution_count": 10,
   "metadata": {},
   "outputs": [
    {
     "data": {
      "text/plain": [
       "neighbourhood   minimum_nights  room_type      \n",
       "Azcapotzalco    1               Private room       52\n",
       "                                Entire home/apt    26\n",
       "                                Shared room         1\n",
       "                2               Private room       20\n",
       "                                Entire home/apt    13\n",
       "                                                   ..\n",
       "Álvaro Obregón  15              Private room        1\n",
       "                30              Entire home/apt     1\n",
       "                90              Entire home/apt     1\n",
       "                                Private room        1\n",
       "                110             Entire home/apt     1\n",
       "Name: room_type, Length: 310, dtype: int64"
      ]
     },
     "execution_count": 10,
     "metadata": {},
     "output_type": "execute_result"
    }
   ],
   "source": [
    "# Calculate the room type per minimum nights and neighbourhood\n",
    "data_df.groupby([\"neighbourhood\", \"minimum_nights\"])[\"room_type\"].value_counts()"
   ]
  },
  {
   "cell_type": "code",
   "execution_count": 11,
   "metadata": {},
   "outputs": [
    {
     "data": {
      "text/plain": [
       "neighbourhood   room_type        minimum_nights  price\n",
       "Azcapotzalco    Entire home/apt  1               593      3\n",
       "                                                 707      3\n",
       "                                                 554      2\n",
       "                                                 650      2\n",
       "                                                 726      2\n",
       "                                                         ..\n",
       "Álvaro Obregón  Private room     15              306      1\n",
       "                                 90              210      1\n",
       "                Shared room      1               287      1\n",
       "                                                 401      1\n",
       "                                                 497      1\n",
       "Name: price, Length: 3946, dtype: int64"
      ]
     },
     "execution_count": 11,
     "metadata": {},
     "output_type": "execute_result"
    }
   ],
   "source": [
    "# Calculate the amount of pricing per nights, roomtype and neighbourhood\n",
    "data_df.groupby([\"neighbourhood\", \"room_type\", \"minimum_nights\"])[\"price\"].value_counts()"
   ]
  },
  {
   "cell_type": "code",
   "execution_count": 12,
   "metadata": {},
   "outputs": [
    {
     "data": {
      "text/plain": [
       "price   reviews_per_month\n",
       "0       0.17                 1\n",
       "        0.30                 1\n",
       "        0.49                 1\n",
       "        0.77                 1\n",
       "        0.81                 1\n",
       "                            ..\n",
       "34411   1.76                 1\n",
       "36705   0.32                 1\n",
       "57351   0.03                 1\n",
       "152936  0.80                 1\n",
       "191170  0.16                 1\n",
       "Name: reviews_per_month, Length: 10381, dtype: int64"
      ]
     },
     "execution_count": 12,
     "metadata": {},
     "output_type": "execute_result"
    }
   ],
   "source": [
    "data_df.groupby([\"price\"])[\"reviews_per_month\"].value_counts()"
   ]
  },
  {
   "cell_type": "code",
   "execution_count": 46,
   "metadata": {
    "scrolled": true
   },
   "outputs": [
    {
     "name": "stdout",
     "output_type": "stream",
     "text": [
      "Max of the minimun nights is: 1000\n"
     ]
    },
    {
     "data": {
      "text/html": [
       "<div>\n",
       "<style scoped>\n",
       "    .dataframe tbody tr th:only-of-type {\n",
       "        vertical-align: middle;\n",
       "    }\n",
       "\n",
       "    .dataframe tbody tr th {\n",
       "        vertical-align: top;\n",
       "    }\n",
       "\n",
       "    .dataframe thead th {\n",
       "        text-align: right;\n",
       "    }\n",
       "</style>\n",
       "<table border=\"1\" class=\"dataframe\">\n",
       "  <thead>\n",
       "    <tr style=\"text-align: right;\">\n",
       "      <th></th>\n",
       "      <th>id</th>\n",
       "      <th>name</th>\n",
       "      <th>host_id</th>\n",
       "      <th>host_name</th>\n",
       "      <th>neighbourhood</th>\n",
       "      <th>latitude</th>\n",
       "      <th>longitude</th>\n",
       "      <th>room_type</th>\n",
       "      <th>price</th>\n",
       "      <th>minimum_nights</th>\n",
       "      <th>number_of_reviews</th>\n",
       "      <th>last_review</th>\n",
       "      <th>reviews_per_month</th>\n",
       "      <th>calculated_host_listings_count</th>\n",
       "      <th>availability_365</th>\n",
       "    </tr>\n",
       "  </thead>\n",
       "  <tbody>\n",
       "    <tr>\n",
       "      <td>5738</td>\n",
       "      <td>18895134</td>\n",
       "      <td>Recamara en PH en col. Del Valle cerca de WTC</td>\n",
       "      <td>105333261</td>\n",
       "      <td>Luis Fernando</td>\n",
       "      <td>Benito Juárez</td>\n",
       "      <td>19.39053</td>\n",
       "      <td>-99.16790</td>\n",
       "      <td>Private room</td>\n",
       "      <td>210</td>\n",
       "      <td>1000</td>\n",
       "      <td>5</td>\n",
       "      <td>2017-09-08</td>\n",
       "      <td>0.20</td>\n",
       "      <td>1</td>\n",
       "      <td>90</td>\n",
       "    </tr>\n",
       "    <tr>\n",
       "      <td>6431</td>\n",
       "      <td>19999002</td>\n",
       "      <td>Depa Pitágoras</td>\n",
       "      <td>67214457</td>\n",
       "      <td>Iris</td>\n",
       "      <td>Benito Juárez</td>\n",
       "      <td>19.37505</td>\n",
       "      <td>-99.14404</td>\n",
       "      <td>Private room</td>\n",
       "      <td>191</td>\n",
       "      <td>1000</td>\n",
       "      <td>1</td>\n",
       "      <td>2017-09-30</td>\n",
       "      <td>0.05</td>\n",
       "      <td>2</td>\n",
       "      <td>179</td>\n",
       "    </tr>\n",
       "  </tbody>\n",
       "</table>\n",
       "</div>"
      ],
      "text/plain": [
       "            id                                           name    host_id  \\\n",
       "5738  18895134  Recamara en PH en col. Del Valle cerca de WTC  105333261   \n",
       "6431  19999002                                 Depa Pitágoras   67214457   \n",
       "\n",
       "          host_name  neighbourhood  latitude  longitude     room_type  price  \\\n",
       "5738  Luis Fernando  Benito Juárez  19.39053  -99.16790  Private room    210   \n",
       "6431           Iris  Benito Juárez  19.37505  -99.14404  Private room    191   \n",
       "\n",
       "      minimum_nights  number_of_reviews last_review  reviews_per_month  \\\n",
       "5738            1000                  5  2017-09-08               0.20   \n",
       "6431            1000                  1  2017-09-30               0.05   \n",
       "\n",
       "      calculated_host_listings_count  availability_365  \n",
       "5738                               1                90  \n",
       "6431                               2               179  "
      ]
     },
     "metadata": {},
     "output_type": "display_data"
    }
   ],
   "source": [
    "data_df.head()\n",
    "max_nights = max(data_df[\"minimum_nights\"])\n",
    "max_nights_neig = data_df.loc[data_df[\"minimum_nights\"]==max_nights]\n",
    "print(f\"Max of the minimun nights is: {max_nights}\")\n",
    "display(max_nights_neig)"
   ]
  },
  {
   "cell_type": "code",
   "execution_count": 22,
   "metadata": {},
   "outputs": [
    {
     "data": {
      "text/plain": [
       "neighbourhood   price\n",
       "Azcapotzalco    191      12\n",
       "                210       8\n",
       "                249       8\n",
       "                268       2\n",
       "                287       4\n",
       "                         ..\n",
       "Álvaro Obregón  5009      2\n",
       "                5334      1\n",
       "                5926      1\n",
       "                6270      1\n",
       "                11279     1\n",
       "Name: reviews_per_month, Length: 1290, dtype: int64"
      ]
     },
     "execution_count": 22,
     "metadata": {},
     "output_type": "execute_result"
    }
   ],
   "source": [
    "data_df.groupby([\"neighbourhood\",\"price\"])[\"reviews_per_month\"].count()"
   ]
  },
  {
   "cell_type": "markdown",
   "metadata": {},
   "source": [
    "## Reviews \n",
    "\n",
    "1: Neighbourhood 2: Room type 3: Minimum nights"
   ]
  },
  {
   "cell_type": "code",
   "execution_count": 31,
   "metadata": {},
   "outputs": [
    {
     "data": {
      "text/html": [
       "<div>\n",
       "<style scoped>\n",
       "    .dataframe tbody tr th:only-of-type {\n",
       "        vertical-align: middle;\n",
       "    }\n",
       "\n",
       "    .dataframe tbody tr th {\n",
       "        vertical-align: top;\n",
       "    }\n",
       "\n",
       "    .dataframe thead th {\n",
       "        text-align: right;\n",
       "    }\n",
       "</style>\n",
       "<table border=\"1\" class=\"dataframe\">\n",
       "  <thead>\n",
       "    <tr style=\"text-align: right;\">\n",
       "      <th></th>\n",
       "      <th>reviews_per_month</th>\n",
       "    </tr>\n",
       "    <tr>\n",
       "      <th>neighbourhood</th>\n",
       "      <th></th>\n",
       "    </tr>\n",
       "  </thead>\n",
       "  <tbody>\n",
       "    <tr>\n",
       "      <td>Cuauhtémoc</td>\n",
       "      <td>6092</td>\n",
       "    </tr>\n",
       "    <tr>\n",
       "      <td>Miguel Hidalgo</td>\n",
       "      <td>2281</td>\n",
       "    </tr>\n",
       "    <tr>\n",
       "      <td>Benito Juárez</td>\n",
       "      <td>2221</td>\n",
       "    </tr>\n",
       "    <tr>\n",
       "      <td>Coyoacán</td>\n",
       "      <td>1176</td>\n",
       "    </tr>\n",
       "    <tr>\n",
       "      <td>Álvaro Obregón</td>\n",
       "      <td>589</td>\n",
       "    </tr>\n",
       "    <tr>\n",
       "      <td>Tlalpan</td>\n",
       "      <td>504</td>\n",
       "    </tr>\n",
       "    <tr>\n",
       "      <td>Cuajimalpa de Morelos</td>\n",
       "      <td>284</td>\n",
       "    </tr>\n",
       "    <tr>\n",
       "      <td>Venustiano Carranza</td>\n",
       "      <td>261</td>\n",
       "    </tr>\n",
       "    <tr>\n",
       "      <td>Gustavo A. Madero</td>\n",
       "      <td>181</td>\n",
       "    </tr>\n",
       "    <tr>\n",
       "      <td>Iztacalco</td>\n",
       "      <td>169</td>\n",
       "    </tr>\n",
       "    <tr>\n",
       "      <td>Azcapotzalco</td>\n",
       "      <td>132</td>\n",
       "    </tr>\n",
       "    <tr>\n",
       "      <td>Iztapalapa</td>\n",
       "      <td>105</td>\n",
       "    </tr>\n",
       "    <tr>\n",
       "      <td>La Magdalena Contreras</td>\n",
       "      <td>87</td>\n",
       "    </tr>\n",
       "    <tr>\n",
       "      <td>Xochimilco</td>\n",
       "      <td>52</td>\n",
       "    </tr>\n",
       "    <tr>\n",
       "      <td>Tláhuac</td>\n",
       "      <td>15</td>\n",
       "    </tr>\n",
       "    <tr>\n",
       "      <td>Milpa Alta</td>\n",
       "      <td>5</td>\n",
       "    </tr>\n",
       "  </tbody>\n",
       "</table>\n",
       "</div>"
      ],
      "text/plain": [
       "                        reviews_per_month\n",
       "neighbourhood                            \n",
       "Cuauhtémoc                           6092\n",
       "Miguel Hidalgo                       2281\n",
       "Benito Juárez                        2221\n",
       "Coyoacán                             1176\n",
       "Álvaro Obregón                        589\n",
       "Tlalpan                               504\n",
       "Cuajimalpa de Morelos                 284\n",
       "Venustiano Carranza                   261\n",
       "Gustavo A. Madero                     181\n",
       "Iztacalco                             169\n",
       "Azcapotzalco                          132\n",
       "Iztapalapa                            105\n",
       "La Magdalena Contreras                 87\n",
       "Xochimilco                             52\n",
       "Tláhuac                                15\n",
       "Milpa Alta                              5"
      ]
     },
     "execution_count": 31,
     "metadata": {},
     "output_type": "execute_result"
    }
   ],
   "source": [
    "reviews_neig= pd.DataFrame(data_df.groupby([\"neighbourhood\"])[\"reviews_per_month\"].count())\n",
    "reviews_neig.sort_values([\"reviews_per_month\"], ascending = False)"
   ]
  },
  {
   "cell_type": "code",
   "execution_count": 62,
   "metadata": {},
   "outputs": [
    {
     "data": {
      "text/html": [
       "<div>\n",
       "<style scoped>\n",
       "    .dataframe tbody tr th:only-of-type {\n",
       "        vertical-align: middle;\n",
       "    }\n",
       "\n",
       "    .dataframe tbody tr th {\n",
       "        vertical-align: top;\n",
       "    }\n",
       "\n",
       "    .dataframe thead th {\n",
       "        text-align: right;\n",
       "    }\n",
       "</style>\n",
       "<table border=\"1\" class=\"dataframe\">\n",
       "  <thead>\n",
       "    <tr style=\"text-align: right;\">\n",
       "      <th></th>\n",
       "      <th></th>\n",
       "      <th></th>\n",
       "      <th>reviews_per_month</th>\n",
       "    </tr>\n",
       "    <tr>\n",
       "      <th>neighbourhood</th>\n",
       "      <th>room_type</th>\n",
       "      <th>minimum_nights</th>\n",
       "      <th></th>\n",
       "    </tr>\n",
       "  </thead>\n",
       "  <tbody>\n",
       "    <tr>\n",
       "      <td>Azcapotzalco</td>\n",
       "      <td>Entire home/apt</td>\n",
       "      <td>1</td>\n",
       "      <td>26</td>\n",
       "    </tr>\n",
       "    <tr>\n",
       "      <td rowspan=\"2\" valign=\"top\">Iztapalapa</td>\n",
       "      <td>Private room</td>\n",
       "      <td>1</td>\n",
       "      <td>54</td>\n",
       "    </tr>\n",
       "    <tr>\n",
       "      <td>Entire home/apt</td>\n",
       "      <td>1</td>\n",
       "      <td>14</td>\n",
       "    </tr>\n",
       "    <tr>\n",
       "      <td rowspan=\"2\" valign=\"top\">Iztacalco</td>\n",
       "      <td>Shared room</td>\n",
       "      <td>1</td>\n",
       "      <td>6</td>\n",
       "    </tr>\n",
       "    <tr>\n",
       "      <td>Private room</td>\n",
       "      <td>1</td>\n",
       "      <td>67</td>\n",
       "    </tr>\n",
       "    <tr>\n",
       "      <td>...</td>\n",
       "      <td>...</td>\n",
       "      <td>...</td>\n",
       "      <td>...</td>\n",
       "    </tr>\n",
       "    <tr>\n",
       "      <td rowspan=\"2\" valign=\"top\">Miguel Hidalgo</td>\n",
       "      <td rowspan=\"2\" valign=\"top\">Entire home/apt</td>\n",
       "      <td>184</td>\n",
       "      <td>1</td>\n",
       "    </tr>\n",
       "    <tr>\n",
       "      <td>200</td>\n",
       "      <td>1</td>\n",
       "    </tr>\n",
       "    <tr>\n",
       "      <td rowspan=\"3\" valign=\"top\">Benito Juárez</td>\n",
       "      <td rowspan=\"2\" valign=\"top\">Entire home/apt</td>\n",
       "      <td>300</td>\n",
       "      <td>1</td>\n",
       "    </tr>\n",
       "    <tr>\n",
       "      <td>365</td>\n",
       "      <td>1</td>\n",
       "    </tr>\n",
       "    <tr>\n",
       "      <td>Private room</td>\n",
       "      <td>1000</td>\n",
       "      <td>2</td>\n",
       "    </tr>\n",
       "  </tbody>\n",
       "</table>\n",
       "<p>310 rows × 1 columns</p>\n",
       "</div>"
      ],
      "text/plain": [
       "                                               reviews_per_month\n",
       "neighbourhood  room_type       minimum_nights                   \n",
       "Azcapotzalco   Entire home/apt 1                              26\n",
       "Iztapalapa     Private room    1                              54\n",
       "               Entire home/apt 1                              14\n",
       "Iztacalco      Shared room     1                               6\n",
       "               Private room    1                              67\n",
       "...                                                          ...\n",
       "Miguel Hidalgo Entire home/apt 184                             1\n",
       "                               200                             1\n",
       "Benito Juárez  Entire home/apt 300                             1\n",
       "                               365                             1\n",
       "               Private room    1000                            2\n",
       "\n",
       "[310 rows x 1 columns]"
      ]
     },
     "execution_count": 62,
     "metadata": {},
     "output_type": "execute_result"
    }
   ],
   "source": [
    "reviews_df=pd.DataFrame(data_df.groupby([\"neighbourhood\",\"room_type\", \"minimum_nights\"])\n",
    "                        [\"reviews_per_month\"].count())\n",
    "reviews_df.sort_values([\"minimum_nights\"])"
   ]
  },
  {
   "cell_type": "code",
   "execution_count": 72,
   "metadata": {},
   "outputs": [
    {
     "name": "stdout",
     "output_type": "stream",
     "text": [
      "0\n"
     ]
    },
    {
     "data": {
      "text/html": [
       "<div>\n",
       "<style scoped>\n",
       "    .dataframe tbody tr th:only-of-type {\n",
       "        vertical-align: middle;\n",
       "    }\n",
       "\n",
       "    .dataframe tbody tr th {\n",
       "        vertical-align: top;\n",
       "    }\n",
       "\n",
       "    .dataframe thead th {\n",
       "        text-align: right;\n",
       "    }\n",
       "</style>\n",
       "<table border=\"1\" class=\"dataframe\">\n",
       "  <thead>\n",
       "    <tr style=\"text-align: right;\">\n",
       "      <th></th>\n",
       "      <th></th>\n",
       "      <th>reviews_per_month</th>\n",
       "    </tr>\n",
       "    <tr>\n",
       "      <th>availability_365</th>\n",
       "      <th>minimum_nights</th>\n",
       "      <th></th>\n",
       "    </tr>\n",
       "  </thead>\n",
       "  <tbody>\n",
       "    <tr>\n",
       "      <td rowspan=\"5\" valign=\"top\">0</td>\n",
       "      <td>1</td>\n",
       "      <td>560</td>\n",
       "    </tr>\n",
       "    <tr>\n",
       "      <td>2</td>\n",
       "      <td>421</td>\n",
       "    </tr>\n",
       "    <tr>\n",
       "      <td>3</td>\n",
       "      <td>182</td>\n",
       "    </tr>\n",
       "    <tr>\n",
       "      <td>4</td>\n",
       "      <td>39</td>\n",
       "    </tr>\n",
       "    <tr>\n",
       "      <td>5</td>\n",
       "      <td>34</td>\n",
       "    </tr>\n",
       "    <tr>\n",
       "      <td>...</td>\n",
       "      <td>...</td>\n",
       "      <td>...</td>\n",
       "    </tr>\n",
       "    <tr>\n",
       "      <td rowspan=\"5\" valign=\"top\">365</td>\n",
       "      <td>8</td>\n",
       "      <td>2</td>\n",
       "    </tr>\n",
       "    <tr>\n",
       "      <td>10</td>\n",
       "      <td>1</td>\n",
       "    </tr>\n",
       "    <tr>\n",
       "      <td>15</td>\n",
       "      <td>3</td>\n",
       "    </tr>\n",
       "    <tr>\n",
       "      <td>30</td>\n",
       "      <td>10</td>\n",
       "    </tr>\n",
       "    <tr>\n",
       "      <td>91</td>\n",
       "      <td>1</td>\n",
       "    </tr>\n",
       "  </tbody>\n",
       "</table>\n",
       "<p>1677 rows × 1 columns</p>\n",
       "</div>"
      ],
      "text/plain": [
       "                                 reviews_per_month\n",
       "availability_365 minimum_nights                   \n",
       "0                1                             560\n",
       "                 2                             421\n",
       "                 3                             182\n",
       "                 4                              39\n",
       "                 5                              34\n",
       "...                                            ...\n",
       "365              8                               2\n",
       "                 10                              1\n",
       "                 15                              3\n",
       "                 30                             10\n",
       "                 91                              1\n",
       "\n",
       "[1677 rows x 1 columns]"
      ]
     },
     "execution_count": 72,
     "metadata": {},
     "output_type": "execute_result"
    }
   ],
   "source": [
    "\n",
    "print(min(data_df[\"availability_365\"]))\n",
    "ava = pd.DataFrame(data_df.groupby([\"availability_365\",\"minimum_nights\"])[\"reviews_per_month\"].count())\n",
    "ava"
   ]
  },
  {
   "cell_type": "code",
   "execution_count": 77,
   "metadata": {},
   "outputs": [
    {
     "data": {
      "image/png": "[encoded data removed]",
      "text/plain": [
       "<Figure size 432x288 with 1 Axes>"
      ]
     },
     "metadata": {
      "needs_background": "light"
     },
     "output_type": "display_data"
    }
   ],
   "source": [
    "data_df.boxplot(column=[\"availability_365\"])\n",
    "plt.show()"
   ]
  },
  {
   "cell_type": "code",
   "execution_count": 64,
   "metadata": {},
   "outputs": [
    {
     "data": {
      "image/png": "[encoded data removed]",
      "text/plain": [
       "<Figure size 432x288 with 1 Axes>"
      ]
     },
     "metadata": {
      "needs_background": "light"
     },
     "output_type": "display_data"
    }
   ],
   "source": [
    "data_df.boxplot(column=[\"minimum_nights\"],showfliers=False)\n",
    "plt.show()"
   ]
  },
  {
   "cell_type": "markdown",
   "metadata": {},
   "source": [
    "## Observations\n",
    "\n",
    "1) There are Airbnbs that have availibility cero.\n",
    "2) There are Airbnbs that have a minimun night per month that equals 1000\n",
    "\n",
    "This two poitns can affect the data.\n",
    "\n",
    "There are 2 Aribnbs that have a minimum night of 1000, but they are just available  90 or 179 days per year."
   ]
  },
  {
   "cell_type": "code",
   "execution_count": null,
   "metadata": {},
   "outputs": [],
   "source": []
  }
 ],
 "metadata": {
  "kernelspec": {
   "display_name": "Python 3",
   "language": "python",
   "name": "python3"
  },
  "language_info": {
   "codemirror_mode": {
    "name": "ipython",
    "version": 3
   },
   "file_extension": ".py",
   "mimetype": "text/x-python",
   "name": "python",
   "nbconvert_exporter": "python",
   "pygments_lexer": "ipython3",
   "version": "3.7.4"
  }
 },
 "nbformat": 4,
 "nbformat_minor": 2
}
