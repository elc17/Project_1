{
 "cells": [
  {
   "cell_type": "code",
   "execution_count": 10,
   "metadata": {},
   "outputs": [],
   "source": [
    "# Import dependencies\n",
    "import pandas as pd\n",
    "import scipy.stats as st\n",
    "import matplotlib\n",
    "import csv\n",
    "import os\n",
    "import gmaps\n",
    "import matplotlib.pyplot as plt\n",
    "import numpy as np\n",
    "import requests\n",
    "import json\n",
    "\n",
    "from api_keys import g_key"
   ]
  },
  {
   "cell_type": "code",
   "execution_count": 2,
   "metadata": {},
   "outputs": [
    {
     "data": {
      "text/html": [
       "<div>\n",
       "<style scoped>\n",
       "    .dataframe tbody tr th:only-of-type {\n",
       "        vertical-align: middle;\n",
       "    }\n",
       "\n",
       "    .dataframe tbody tr th {\n",
       "        vertical-align: top;\n",
       "    }\n",
       "\n",
       "    .dataframe thead th {\n",
       "        text-align: right;\n",
       "    }\n",
       "</style>\n",
       "<table border=\"1\" class=\"dataframe\">\n",
       "  <thead>\n",
       "    <tr style=\"text-align: right;\">\n",
       "      <th></th>\n",
       "      <th>id</th>\n",
       "      <th>name</th>\n",
       "      <th>host_id</th>\n",
       "      <th>host_name</th>\n",
       "      <th>neighbourhood</th>\n",
       "      <th>latitude</th>\n",
       "      <th>longitude</th>\n",
       "      <th>room_type</th>\n",
       "      <th>price</th>\n",
       "      <th>minimum_nights</th>\n",
       "      <th>number_of_reviews</th>\n",
       "      <th>last_review</th>\n",
       "      <th>reviews_per_month</th>\n",
       "      <th>calculated_host_listings_count</th>\n",
       "      <th>availability_365</th>\n",
       "    </tr>\n",
       "  </thead>\n",
       "  <tbody>\n",
       "    <tr>\n",
       "      <td>1</td>\n",
       "      <td>22787</td>\n",
       "      <td>Sunny suite w/ queen size bed, inside boutique...</td>\n",
       "      <td>87973</td>\n",
       "      <td>Diego</td>\n",
       "      <td>Cuauhtémoc</td>\n",
       "      <td>19.44076</td>\n",
       "      <td>-99.16324</td>\n",
       "      <td>Private room</td>\n",
       "      <td>1969</td>\n",
       "      <td>1</td>\n",
       "      <td>57</td>\n",
       "      <td>2019-05-27</td>\n",
       "      <td>0.52</td>\n",
       "      <td>9</td>\n",
       "      <td>355</td>\n",
       "    </tr>\n",
       "    <tr>\n",
       "      <td>4</td>\n",
       "      <td>44616</td>\n",
       "      <td>CONDESA HAUS  B&amp;B</td>\n",
       "      <td>196253</td>\n",
       "      <td>Condesa Haus Bed &amp; Breakfast  CDMX</td>\n",
       "      <td>Cuauhtémoc</td>\n",
       "      <td>19.41006</td>\n",
       "      <td>-99.17645</td>\n",
       "      <td>Private room</td>\n",
       "      <td>1893</td>\n",
       "      <td>1</td>\n",
       "      <td>39</td>\n",
       "      <td>2019-05-02</td>\n",
       "      <td>0.42</td>\n",
       "      <td>10</td>\n",
       "      <td>334</td>\n",
       "    </tr>\n",
       "    <tr>\n",
       "      <td>5</td>\n",
       "      <td>58955</td>\n",
       "      <td>Entire beautiful duplex in la Roma</td>\n",
       "      <td>282620</td>\n",
       "      <td>Nat</td>\n",
       "      <td>Cuauhtémoc</td>\n",
       "      <td>19.42292</td>\n",
       "      <td>-99.15775</td>\n",
       "      <td>Entire home/apt</td>\n",
       "      <td>1625</td>\n",
       "      <td>3</td>\n",
       "      <td>39</td>\n",
       "      <td>2019-05-28</td>\n",
       "      <td>0.43</td>\n",
       "      <td>1</td>\n",
       "      <td>178</td>\n",
       "    </tr>\n",
       "    <tr>\n",
       "      <td>6</td>\n",
       "      <td>61792</td>\n",
       "      <td>Spacious Clean Quiet room (own bath) in la Con...</td>\n",
       "      <td>299558</td>\n",
       "      <td>Roberto</td>\n",
       "      <td>Cuauhtémoc</td>\n",
       "      <td>19.41259</td>\n",
       "      <td>-99.17959</td>\n",
       "      <td>Private room</td>\n",
       "      <td>956</td>\n",
       "      <td>2</td>\n",
       "      <td>51</td>\n",
       "      <td>2019-04-05</td>\n",
       "      <td>2.55</td>\n",
       "      <td>3</td>\n",
       "      <td>180</td>\n",
       "    </tr>\n",
       "    <tr>\n",
       "      <td>7</td>\n",
       "      <td>67703</td>\n",
       "      <td>2 bedroom apt. deco bldg, Condesa</td>\n",
       "      <td>334451</td>\n",
       "      <td>Nicholas</td>\n",
       "      <td>Cuauhtémoc</td>\n",
       "      <td>19.41375</td>\n",
       "      <td>-99.17028</td>\n",
       "      <td>Entire home/apt</td>\n",
       "      <td>1816</td>\n",
       "      <td>2</td>\n",
       "      <td>39</td>\n",
       "      <td>2019-02-24</td>\n",
       "      <td>0.42</td>\n",
       "      <td>3</td>\n",
       "      <td>361</td>\n",
       "    </tr>\n",
       "  </tbody>\n",
       "</table>\n",
       "</div>"
      ],
      "text/plain": [
       "      id                                               name  host_id  \\\n",
       "1  22787  Sunny suite w/ queen size bed, inside boutique...    87973   \n",
       "4  44616                                  CONDESA HAUS  B&B   196253   \n",
       "5  58955                 Entire beautiful duplex in la Roma   282620   \n",
       "6  61792  Spacious Clean Quiet room (own bath) in la Con...   299558   \n",
       "7  67703                  2 bedroom apt. deco bldg, Condesa   334451   \n",
       "\n",
       "                            host_name neighbourhood  latitude  longitude  \\\n",
       "1                               Diego    Cuauhtémoc  19.44076  -99.16324   \n",
       "4  Condesa Haus Bed & Breakfast  CDMX    Cuauhtémoc  19.41006  -99.17645   \n",
       "5                                 Nat    Cuauhtémoc  19.42292  -99.15775   \n",
       "6                             Roberto    Cuauhtémoc  19.41259  -99.17959   \n",
       "7                            Nicholas    Cuauhtémoc  19.41375  -99.17028   \n",
       "\n",
       "         room_type  price  minimum_nights  number_of_reviews last_review  \\\n",
       "1     Private room   1969               1                 57  2019-05-27   \n",
       "4     Private room   1893               1                 39  2019-05-02   \n",
       "5  Entire home/apt   1625               3                 39  2019-05-28   \n",
       "6     Private room    956               2                 51  2019-04-05   \n",
       "7  Entire home/apt   1816               2                 39  2019-02-24   \n",
       "\n",
       "   reviews_per_month  calculated_host_listings_count  availability_365  \n",
       "1               0.52                               9               355  \n",
       "4               0.42                              10               334  \n",
       "5               0.43                               1               178  \n",
       "6               2.55                               3               180  \n",
       "7               0.42                               3               361  "
      ]
     },
     "execution_count": 2,
     "metadata": {},
     "output_type": "execute_result"
    }
   ],
   "source": [
    "data_df = pd.read_csv(\"listings1.csv\")\n",
    "data_df = data_df.drop(\"neighbourhood_group\", axis = 1)\n",
    "data_df = data_df.dropna()\n",
    "data_df.head()"
   ]
  },
  {
   "cell_type": "code",
   "execution_count": 3,
   "metadata": {},
   "outputs": [],
   "source": [
    "#data_df.groupby(data_df[\"neighbourhood\"])[\"price\"].mean()"
   ]
  },
  {
   "cell_type": "code",
   "execution_count": 4,
   "metadata": {},
   "outputs": [],
   "source": [
    "#data_df.groupby(data_df[\"price\"])[\"neighbourhood\"].value_counts()"
   ]
  },
  {
   "cell_type": "code",
   "execution_count": 5,
   "metadata": {},
   "outputs": [],
   "source": [
    "#data_df.groupby(data_df[\"room_type\"])[\"price\"].mean()"
   ]
  },
  {
   "cell_type": "code",
   "execution_count": 6,
   "metadata": {},
   "outputs": [],
   "source": [
    "#data_df.groupby(data_df[\"minimum_nights\"])[\"price\"].mean()"
   ]
  },
  {
   "cell_type": "code",
   "execution_count": 7,
   "metadata": {},
   "outputs": [],
   "source": [
    "#data_df.groupby(data_df[\"price\"])[\"number_of_reviews\"].mean()"
   ]
  },
  {
   "cell_type": "code",
   "execution_count": 8,
   "metadata": {},
   "outputs": [],
   "source": [
    "#data_df.groupby(data_df[\"price\"])[\"number_of_reviews\"].sum()"
   ]
  },
  {
   "cell_type": "code",
   "execution_count": 21,
   "metadata": {},
   "outputs": [],
   "source": [
    "locations = data_df[[\"latitude\", \"longitude\"]]\n",
    "price = data_df[\"price\"]\n",
    "max_int = data_df[\"price\"].max()"
   ]
  },
  {
   "cell_type": "code",
   "execution_count": 24,
   "metadata": {},
   "outputs": [
    {
     "data": {
      "application/vnd.jupyter.widget-view+json": {
       "model_id": "6ecd674bb0244355aedd4cfc658e7a4c",
       "version_major": 2,
       "version_minor": 0
      },
      "text/plain": [
       "Figure(layout=FigureLayout(height='420px'))"
      ]
     },
     "metadata": {},
     "output_type": "display_data"
    }
   ],
   "source": [
    "# Plot Humidity heatmap\n",
    "fig = gmaps.figure()\n",
    "\n",
    "# Create a heat layer\n",
    "heat_l = gmaps.heatmap_layer(locations, weights = price, max_intensity = max_int, point_radius = 10)\n",
    "\n",
    "# Add the heat layer\n",
    "fig.add_layer(heat_l)\n",
    "\n",
    "# Display the plot\n",
    "fig"
   ]
  },
  {
   "cell_type": "code",
   "execution_count": 51,
   "metadata": {},
   "outputs": [
    {
     "data": {
      "text/plain": [
       "<function matplotlib.pyplot.show(*args, **kw)>"
      ]
     },
     "execution_count": 51,
     "metadata": {},
     "output_type": "execute_result"
    },
    {
     "data": {
      "image/png": "[encoded data removed]",
      "text/plain": [
       "<Figure size 1080x504 with 1 Axes>"
      ]
     },
     "metadata": {
      "needs_background": "light"
     },
     "output_type": "display_data"
    }
   ],
   "source": [
    "neighbourhood = data_df[\"neighbourhood\"].value_counts().to_frame()\n",
    "neighbourhood.sort_index().plot(kind = \"bar\", figsize = (15, 7))\n",
    "plt.title(\"Airbnb Availability per Neighbourhood\")\n",
    "plt.xlabel(\"Neighbourhood\")\n",
    "plt.ylabel(\"Number of Airbnb\")\n",
    "plt.xticks(rotation = 45)\n",
    "plt.tight_layout()\n",
    "plt.show"
   ]
  },
  {
   "cell_type": "code",
   "execution_count": 52,
   "metadata": {},
   "outputs": [
    {
     "data": {
      "text/plain": [
       "<function matplotlib.pyplot.show(*args, **kw)>"
      ]
     },
     "execution_count": 52,
     "metadata": {},
     "output_type": "execute_result"
    },
    {
     "data": {
      "image/png": "[encoded data removed]",
      "text/plain": [
       "<Figure size 1080x504 with 1 Axes>"
      ]
     },
     "metadata": {
      "needs_background": "light"
     },
     "output_type": "display_data"
    }
   ],
   "source": [
    "data_df.groupby([\"neighbourhood\"])[\"price\"].mean().plot(kind = \"bar\", figsize = (15, 7))\n",
    "plt.title(\"Airbnb Mean Price per Neighbourhood\")\n",
    "plt.xlabel(\"Neighbourhood\")\n",
    "plt.ylabel(\"Mean Price\")\n",
    "plt.xticks(rotation = 45)\n",
    "plt.tight_layout()\n",
    "plt.show"
   ]
  },
  {
   "cell_type": "code",
   "execution_count": 55,
   "metadata": {},
   "outputs": [
    {
     "data": {
      "text/plain": [
       "<function matplotlib.pyplot.show(*args, **kw)>"
      ]
     },
     "execution_count": 55,
     "metadata": {},
     "output_type": "execute_result"
    },
    {
     "data": {
      "image/png": "[encoded data removed]",
      "text/plain": [
       "<Figure size 1080x504 with 1 Axes>"
      ]
     },
     "metadata": {
      "needs_background": "light"
     },
     "output_type": "display_data"
    }
   ],
   "source": [
    "data_df.groupby([\"room_type\"])[\"price\"].mean().plot(kind = \"bar\", figsize = (15, 7))\n",
    "plt.title(\"Airbnb Mean Price per Room Type\")\n",
    "plt.xlabel(\"Room Type\")\n",
    "plt.ylabel(\"Mean Price\")\n",
    "plt.xticks(rotation = 45)\n",
    "plt.tight_layout()\n",
    "plt.show"
   ]
  },
  {
   "cell_type": "code",
   "execution_count": 127,
   "metadata": {},
   "outputs": [
    {
     "name": "stdout",
     "output_type": "stream",
     "text": [
      "             neighbourhood        room_type  Count\n",
      "0             Azcapotzalco     Private room     83\n",
      "1             Azcapotzalco  Entire home/apt     47\n",
      "2             Azcapotzalco      Shared room      2\n",
      "3            Benito Juárez     Private room   1176\n",
      "4            Benito Juárez  Entire home/apt   1022\n",
      "5            Benito Juárez      Shared room     23\n",
      "6                 Coyoacán     Private room    719\n",
      "7                 Coyoacán  Entire home/apt    434\n",
      "8                 Coyoacán      Shared room     23\n",
      "9    Cuajimalpa de Morelos  Entire home/apt    162\n",
      "10   Cuajimalpa de Morelos     Private room    119\n",
      "11   Cuajimalpa de Morelos      Shared room      3\n",
      "12              Cuauhtémoc  Entire home/apt   3781\n",
      "13              Cuauhtémoc     Private room   2231\n",
      "14              Cuauhtémoc      Shared room     80\n",
      "15       Gustavo A. Madero     Private room    120\n",
      "16       Gustavo A. Madero  Entire home/apt     56\n",
      "17       Gustavo A. Madero      Shared room      5\n",
      "18               Iztacalco     Private room     83\n",
      "19               Iztacalco  Entire home/apt     78\n",
      "20               Iztacalco      Shared room      8\n",
      "21              Iztapalapa     Private room     74\n",
      "22              Iztapalapa  Entire home/apt     28\n",
      "23              Iztapalapa      Shared room      3\n",
      "24  La Magdalena Contreras     Private room     51\n",
      "25  La Magdalena Contreras  Entire home/apt     36\n",
      "26          Miguel Hidalgo  Entire home/apt   1440\n",
      "27          Miguel Hidalgo     Private room    822\n",
      "28          Miguel Hidalgo      Shared room     19\n",
      "29              Milpa Alta  Entire home/apt      3\n",
      "30              Milpa Alta     Private room      2\n",
      "31                 Tlalpan     Private room    321\n",
      "32                 Tlalpan  Entire home/apt    174\n",
      "33                 Tlalpan      Shared room      9\n",
      "34                 Tláhuac     Private room      8\n",
      "35                 Tláhuac  Entire home/apt      6\n",
      "36                 Tláhuac      Shared room      1\n",
      "37     Venustiano Carranza     Private room    127\n",
      "38     Venustiano Carranza  Entire home/apt    123\n",
      "39     Venustiano Carranza      Shared room     11\n",
      "40              Xochimilco     Private room     30\n",
      "41              Xochimilco  Entire home/apt     22\n",
      "42          Álvaro Obregón     Private room    314\n",
      "43          Álvaro Obregón  Entire home/apt    272\n",
      "44          Álvaro Obregón      Shared room      3\n",
      "    Shared Room\n",
      "2             2\n",
      "5            23\n",
      "8            23\n",
      "11            3\n",
      "14           80\n",
      "17            5\n",
      "20            8\n",
      "23            3\n",
      "28           19\n",
      "33            9\n",
      "36            1\n",
      "39           11\n",
      "44            3\n"
     ]
    },
    {
     "data": {
      "text/html": [
       "<div>\n",
       "<style scoped>\n",
       "    .dataframe tbody tr th:only-of-type {\n",
       "        vertical-align: middle;\n",
       "    }\n",
       "\n",
       "    .dataframe tbody tr th {\n",
       "        vertical-align: top;\n",
       "    }\n",
       "\n",
       "    .dataframe thead th {\n",
       "        text-align: right;\n",
       "    }\n",
       "</style>\n",
       "<table border=\"1\" class=\"dataframe\">\n",
       "  <thead>\n",
       "    <tr style=\"text-align: right;\">\n",
       "      <th></th>\n",
       "      <th>Complete</th>\n",
       "      <th>Private Room</th>\n",
       "    </tr>\n",
       "  </thead>\n",
       "  <tbody>\n",
       "    <tr>\n",
       "      <td>Azcapotzalco</td>\n",
       "      <td>47</td>\n",
       "      <td>83</td>\n",
       "    </tr>\n",
       "    <tr>\n",
       "      <td>Benito Juárez</td>\n",
       "      <td>1022</td>\n",
       "      <td>1176</td>\n",
       "    </tr>\n",
       "    <tr>\n",
       "      <td>Coyoacán</td>\n",
       "      <td>434</td>\n",
       "      <td>719</td>\n",
       "    </tr>\n",
       "    <tr>\n",
       "      <td>Cuajimalpa de Morelos</td>\n",
       "      <td>162</td>\n",
       "      <td>119</td>\n",
       "    </tr>\n",
       "    <tr>\n",
       "      <td>Cuauhtémoc</td>\n",
       "      <td>3781</td>\n",
       "      <td>2231</td>\n",
       "    </tr>\n",
       "    <tr>\n",
       "      <td>Gustavo A. Madero</td>\n",
       "      <td>56</td>\n",
       "      <td>120</td>\n",
       "    </tr>\n",
       "    <tr>\n",
       "      <td>Iztacalco</td>\n",
       "      <td>78</td>\n",
       "      <td>83</td>\n",
       "    </tr>\n",
       "    <tr>\n",
       "      <td>Iztapalapa</td>\n",
       "      <td>28</td>\n",
       "      <td>74</td>\n",
       "    </tr>\n",
       "    <tr>\n",
       "      <td>La Magdalena Contreras</td>\n",
       "      <td>36</td>\n",
       "      <td>51</td>\n",
       "    </tr>\n",
       "    <tr>\n",
       "      <td>Miguel Hidalgo</td>\n",
       "      <td>1440</td>\n",
       "      <td>822</td>\n",
       "    </tr>\n",
       "    <tr>\n",
       "      <td>Milpa Alta</td>\n",
       "      <td>3</td>\n",
       "      <td>2</td>\n",
       "    </tr>\n",
       "    <tr>\n",
       "      <td>Tlalpan</td>\n",
       "      <td>174</td>\n",
       "      <td>321</td>\n",
       "    </tr>\n",
       "    <tr>\n",
       "      <td>Tláhuac</td>\n",
       "      <td>6</td>\n",
       "      <td>8</td>\n",
       "    </tr>\n",
       "    <tr>\n",
       "      <td>Venustiano Carranza</td>\n",
       "      <td>123</td>\n",
       "      <td>127</td>\n",
       "    </tr>\n",
       "    <tr>\n",
       "      <td>Xochimilco</td>\n",
       "      <td>22</td>\n",
       "      <td>30</td>\n",
       "    </tr>\n",
       "    <tr>\n",
       "      <td>Álvaro Obregón</td>\n",
       "      <td>272</td>\n",
       "      <td>314</td>\n",
       "    </tr>\n",
       "  </tbody>\n",
       "</table>\n",
       "</div>"
      ],
      "text/plain": [
       "                        Complete  Private Room\n",
       "Azcapotzalco                  47            83\n",
       "Benito Juárez               1022          1176\n",
       "Coyoacán                     434           719\n",
       "Cuajimalpa de Morelos        162           119\n",
       "Cuauhtémoc                  3781          2231\n",
       "Gustavo A. Madero             56           120\n",
       "Iztacalco                     78            83\n",
       "Iztapalapa                    28            74\n",
       "La Magdalena Contreras        36            51\n",
       "Miguel Hidalgo              1440           822\n",
       "Milpa Alta                     3             2\n",
       "Tlalpan                      174           321\n",
       "Tláhuac                        6             8\n",
       "Venustiano Carranza          123           127\n",
       "Xochimilco                    22            30\n",
       "Álvaro Obregón               272           314"
      ]
     },
     "execution_count": 127,
     "metadata": {},
     "output_type": "execute_result"
    }
   ],
   "source": [
    "room = data_df.groupby([\"neighbourhood\"])[\"room_type\"].value_counts().to_frame(name = \"Count\")\n",
    "room = room.reset_index()\n",
    "print(room)\n",
    "\n",
    "ns = neighbourhood.sort_index()\n",
    "index = ns.index\n",
    "\n",
    "entire = room[room[\"room_type\"] == \"Entire home/apt\"][\"Count\"]\n",
    "entire = entire.to_frame(name = \"Complete\")\n",
    "entire.index = index\n",
    "#print(len(entire))\n",
    "\n",
    "private = room[room[\"room_type\"] == \"Private room\"][\"Count\"]\n",
    "private = private.to_frame(name = \"Private Room\")\n",
    "private.index = index\n",
    "#print(private)\n",
    "\n",
    "shared = room[room[\"room_type\"] == \"Shared room\"][\"Count\"]\n",
    "shared = shared.to_frame(name = \"Shared Room\")\n",
    "#shared.index = index\n",
    "print(shared)\n",
    "\n",
    "room_t = pd.concat([entire, private], axis = 1, sort = True)\n",
    "# # #roomt = room.T\n",
    "room_t.head(16)\n",
    "\n",
    "# data_df.groupby([\"neighbourhood\", \"room_type\"])[\"price\"].mean().T.plot(kind = \"bar\", figsize = (25, 15))\n",
    "# plt.title(\"Airbnb Mean Price per Room Type\")\n",
    "# plt.xlabel(\"Room Type\")\n",
    "# plt.ylabel(\"Mean Price\")\n",
    "# plt.xticks(rotation = 45)\n",
    "# plt.tight_layout()\n",
    "# plt.show"
   ]
  },
  {
   "cell_type": "code",
   "execution_count": null,
   "metadata": {},
   "outputs": [],
   "source": []
  }
 ],
 "metadata": {
  "kernelspec": {
   "display_name": "Python 3",
   "language": "python",
   "name": "python3"
  },
  "language_info": {
   "codemirror_mode": {
    "name": "ipython",
    "version": 3
   },
   "file_extension": ".py",
   "mimetype": "text/x-python",
   "name": "python",
   "nbconvert_exporter": "python",
   "pygments_lexer": "ipython3",
   "version": "3.7.4"
  }
 },
 "nbformat": 4,
 "nbformat_minor": 2
}
