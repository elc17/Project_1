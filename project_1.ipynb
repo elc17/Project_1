{
 "cells": [
  {
   "cell_type": "code",
   "execution_count": 4,
   "metadata": {},
   "outputs": [],
   "source": [
    "# Import dependencies\n",
    "import pandas as pd\n",
    "import scipy.stats as st\n",
    "import matplotlib\n",
    "import csv\n",
    "import os"
   ]
  },
  {
   "cell_type": "code",
   "execution_count": 5,
   "metadata": {},
   "outputs": [
    {
     "data": {
      "text/html": [
       "<div>\n",
       "<style scoped>\n",
       "    .dataframe tbody tr th:only-of-type {\n",
       "        vertical-align: middle;\n",
       "    }\n",
       "\n",
       "    .dataframe tbody tr th {\n",
       "        vertical-align: top;\n",
       "    }\n",
       "\n",
       "    .dataframe thead th {\n",
       "        text-align: right;\n",
       "    }\n",
       "</style>\n",
       "<table border=\"1\" class=\"dataframe\">\n",
       "  <thead>\n",
       "    <tr style=\"text-align: right;\">\n",
       "      <th></th>\n",
       "      <th>id</th>\n",
       "      <th>name</th>\n",
       "      <th>host_id</th>\n",
       "      <th>host_name</th>\n",
       "      <th>neighbourhood</th>\n",
       "      <th>latitude</th>\n",
       "      <th>longitude</th>\n",
       "      <th>room_type</th>\n",
       "      <th>price</th>\n",
       "      <th>minimum_nights</th>\n",
       "      <th>number_of_reviews</th>\n",
       "      <th>last_review</th>\n",
       "      <th>reviews_per_month</th>\n",
       "      <th>calculated_host_listings_count</th>\n",
       "      <th>availability_365</th>\n",
       "    </tr>\n",
       "  </thead>\n",
       "  <tbody>\n",
       "    <tr>\n",
       "      <td>1</td>\n",
       "      <td>22787</td>\n",
       "      <td>Sunny suite w/ queen size bed, inside boutique...</td>\n",
       "      <td>87973</td>\n",
       "      <td>Diego</td>\n",
       "      <td>Cuauhtémoc</td>\n",
       "      <td>19.44076</td>\n",
       "      <td>-99.16324</td>\n",
       "      <td>Private room</td>\n",
       "      <td>1969</td>\n",
       "      <td>1</td>\n",
       "      <td>57</td>\n",
       "      <td>2019-05-27</td>\n",
       "      <td>0.52</td>\n",
       "      <td>9</td>\n",
       "      <td>355</td>\n",
       "    </tr>\n",
       "    <tr>\n",
       "      <td>4</td>\n",
       "      <td>44616</td>\n",
       "      <td>CONDESA HAUS  B&amp;B</td>\n",
       "      <td>196253</td>\n",
       "      <td>Condesa Haus Bed &amp; Breakfast  CDMX</td>\n",
       "      <td>Cuauhtémoc</td>\n",
       "      <td>19.41006</td>\n",
       "      <td>-99.17645</td>\n",
       "      <td>Private room</td>\n",
       "      <td>1893</td>\n",
       "      <td>1</td>\n",
       "      <td>39</td>\n",
       "      <td>2019-05-02</td>\n",
       "      <td>0.42</td>\n",
       "      <td>10</td>\n",
       "      <td>334</td>\n",
       "    </tr>\n",
       "    <tr>\n",
       "      <td>5</td>\n",
       "      <td>58955</td>\n",
       "      <td>Entire beautiful duplex in la Roma</td>\n",
       "      <td>282620</td>\n",
       "      <td>Nat</td>\n",
       "      <td>Cuauhtémoc</td>\n",
       "      <td>19.42292</td>\n",
       "      <td>-99.15775</td>\n",
       "      <td>Entire home/apt</td>\n",
       "      <td>1625</td>\n",
       "      <td>3</td>\n",
       "      <td>39</td>\n",
       "      <td>2019-05-28</td>\n",
       "      <td>0.43</td>\n",
       "      <td>1</td>\n",
       "      <td>178</td>\n",
       "    </tr>\n",
       "    <tr>\n",
       "      <td>6</td>\n",
       "      <td>61792</td>\n",
       "      <td>Spacious Clean Quiet room (own bath) in la Con...</td>\n",
       "      <td>299558</td>\n",
       "      <td>Roberto</td>\n",
       "      <td>Cuauhtémoc</td>\n",
       "      <td>19.41259</td>\n",
       "      <td>-99.17959</td>\n",
       "      <td>Private room</td>\n",
       "      <td>956</td>\n",
       "      <td>2</td>\n",
       "      <td>51</td>\n",
       "      <td>2019-04-05</td>\n",
       "      <td>2.55</td>\n",
       "      <td>3</td>\n",
       "      <td>180</td>\n",
       "    </tr>\n",
       "    <tr>\n",
       "      <td>7</td>\n",
       "      <td>67703</td>\n",
       "      <td>2 bedroom apt. deco bldg, Condesa</td>\n",
       "      <td>334451</td>\n",
       "      <td>Nicholas</td>\n",
       "      <td>Cuauhtémoc</td>\n",
       "      <td>19.41375</td>\n",
       "      <td>-99.17028</td>\n",
       "      <td>Entire home/apt</td>\n",
       "      <td>1816</td>\n",
       "      <td>2</td>\n",
       "      <td>39</td>\n",
       "      <td>2019-02-24</td>\n",
       "      <td>0.42</td>\n",
       "      <td>3</td>\n",
       "      <td>361</td>\n",
       "    </tr>\n",
       "  </tbody>\n",
       "</table>\n",
       "</div>"
      ],
      "text/plain": [
       "      id                                               name  host_id  \\\n",
       "1  22787  Sunny suite w/ queen size bed, inside boutique...    87973   \n",
       "4  44616                                  CONDESA HAUS  B&B   196253   \n",
       "5  58955                 Entire beautiful duplex in la Roma   282620   \n",
       "6  61792  Spacious Clean Quiet room (own bath) in la Con...   299558   \n",
       "7  67703                  2 bedroom apt. deco bldg, Condesa   334451   \n",
       "\n",
       "                            host_name neighbourhood  latitude  longitude  \\\n",
       "1                               Diego    Cuauhtémoc  19.44076  -99.16324   \n",
       "4  Condesa Haus Bed & Breakfast  CDMX    Cuauhtémoc  19.41006  -99.17645   \n",
       "5                                 Nat    Cuauhtémoc  19.42292  -99.15775   \n",
       "6                             Roberto    Cuauhtémoc  19.41259  -99.17959   \n",
       "7                            Nicholas    Cuauhtémoc  19.41375  -99.17028   \n",
       "\n",
       "         room_type  price  minimum_nights  number_of_reviews last_review  \\\n",
       "1     Private room   1969               1                 57  2019-05-27   \n",
       "4     Private room   1893               1                 39  2019-05-02   \n",
       "5  Entire home/apt   1625               3                 39  2019-05-28   \n",
       "6     Private room    956               2                 51  2019-04-05   \n",
       "7  Entire home/apt   1816               2                 39  2019-02-24   \n",
       "\n",
       "   reviews_per_month  calculated_host_listings_count  availability_365  \n",
       "1               0.52                               9               355  \n",
       "4               0.42                              10               334  \n",
       "5               0.43                               1               178  \n",
       "6               2.55                               3               180  \n",
       "7               0.42                               3               361  "
      ]
     },
     "execution_count": 5,
     "metadata": {},
     "output_type": "execute_result"
    }
   ],
   "source": [
    "data_df = pd.read_csv(\"listings1.csv\")\n",
    "data_df = data_df.drop(\"neighbourhood_group\", axis = 1)\n",
    "data_df = data_df.dropna()\n",
    "data_df.head()"
   ]
  },
  {
   "cell_type": "code",
   "execution_count": 32,
   "metadata": {},
   "outputs": [
    {
     "data": {
      "text/plain": [
       "neighbourhood\n",
       "Azcapotzalco               522.204545\n",
       "Benito Juárez              709.439442\n",
       "Coyoacán                   749.586735\n",
       "Cuajimalpa de Morelos     1207.482394\n",
       "Cuauhtémoc                1180.172357\n",
       "Gustavo A. Madero          496.281768\n",
       "Iztacalco                  528.846154\n",
       "Iztapalapa                 398.790476\n",
       "La Magdalena Contreras     704.655172\n",
       "Miguel Hidalgo            1583.850504\n",
       "Milpa Alta                 768.600000\n",
       "Tlalpan                    639.914683\n",
       "Tláhuac                    548.000000\n",
       "Venustiano Carranza        598.318008\n",
       "Xochimilco                 577.846154\n",
       "Álvaro Obregón             871.967742\n",
       "Name: price, dtype: float64"
      ]
     },
     "execution_count": 32,
     "metadata": {},
     "output_type": "execute_result"
    }
   ],
   "source": [
    "data_df.groupby(data_df[\"neighbourhood\"])[\"price\"].mean()"
   ]
  },
  {
   "cell_type": "code",
   "execution_count": 38,
   "metadata": {},
   "outputs": [
    {
     "data": {
      "text/plain": [
       "price   neighbourhood \n",
       "0       Cuauhtémoc        5\n",
       "        Miguel Hidalgo    2\n",
       "        Benito Juárez     1\n",
       "57      Benito Juárez     1\n",
       "115     Iztapalapa        1\n",
       "                         ..\n",
       "34411   Miguel Hidalgo    1\n",
       "36705   Cuauhtémoc        1\n",
       "57351   Cuauhtémoc        1\n",
       "152936  Miguel Hidalgo    1\n",
       "191170  Miguel Hidalgo    1\n",
       "Name: neighbourhood, Length: 1290, dtype: int64"
      ]
     },
     "execution_count": 38,
     "metadata": {},
     "output_type": "execute_result"
    }
   ],
   "source": [
    "data_df.groupby(data_df[\"price\"])[\"neighbourhood\"].value_counts()"
   ]
  },
  {
   "cell_type": "code",
   "execution_count": 33,
   "metadata": {},
   "outputs": [
    {
     "data": {
      "text/plain": [
       "room_type\n",
       "Entire home/apt    1494.526158\n",
       "Private room        546.864650\n",
       "Shared room         367.984211\n",
       "Name: price, dtype: float64"
      ]
     },
     "execution_count": 33,
     "metadata": {},
     "output_type": "execute_result"
    }
   ],
   "source": [
    "data_df.groupby(data_df[\"room_type\"])[\"price\"].mean()"
   ]
  },
  {
   "cell_type": "code",
   "execution_count": 34,
   "metadata": {},
   "outputs": [
    {
     "data": {
      "text/plain": [
       "minimum_nights\n",
       "1        975.854429\n",
       "2       1108.374771\n",
       "3       1119.116019\n",
       "4       1025.080139\n",
       "5       1496.244898\n",
       "6       1226.848101\n",
       "7       1693.404762\n",
       "8        491.571429\n",
       "10      1090.379310\n",
       "12      1006.833333\n",
       "13      1115.000000\n",
       "14       899.333333\n",
       "15       611.771429\n",
       "16       497.000000\n",
       "18       421.000000\n",
       "19       755.000000\n",
       "20       911.250000\n",
       "21       713.666667\n",
       "24      1491.000000\n",
       "25       951.800000\n",
       "28       611.700000\n",
       "29       420.666667\n",
       "30       663.466667\n",
       "45       249.000000\n",
       "60       982.600000\n",
       "70      1281.000000\n",
       "90       630.900000\n",
       "91       229.000000\n",
       "93      1338.000000\n",
       "100      344.000000\n",
       "110     4665.000000\n",
       "120     1491.000000\n",
       "175      478.000000\n",
       "180      615.400000\n",
       "182      287.000000\n",
       "184      459.000000\n",
       "200      554.000000\n",
       "300      554.000000\n",
       "365      860.000000\n",
       "1000     200.500000\n",
       "Name: price, dtype: float64"
      ]
     },
     "execution_count": 34,
     "metadata": {},
     "output_type": "execute_result"
    }
   ],
   "source": [
    "data_df.groupby(data_df[\"minimum_nights\"])[\"price\"].mean()"
   ]
  },
  {
   "cell_type": "code",
   "execution_count": 36,
   "metadata": {},
   "outputs": [
    {
     "data": {
      "text/plain": [
       "price\n",
       "0         25.0\n",
       "57         7.0\n",
       "115        1.0\n",
       "134        5.0\n",
       "153        3.0\n",
       "          ... \n",
       "34411     14.0\n",
       "36705      1.0\n",
       "57351      1.0\n",
       "152936    12.0\n",
       "191170     4.0\n",
       "Name: number_of_reviews, Length: 316, dtype: float64"
      ]
     },
     "execution_count": 36,
     "metadata": {},
     "output_type": "execute_result"
    }
   ],
   "source": [
    "data_df.groupby(data_df[\"price\"])[\"number_of_reviews\"].mean()"
   ]
  },
  {
   "cell_type": "code",
   "execution_count": 37,
   "metadata": {},
   "outputs": [
    {
     "data": {
      "text/plain": [
       "price\n",
       "0         200\n",
       "57          7\n",
       "115         1\n",
       "134         5\n",
       "153         3\n",
       "         ... \n",
       "34411      14\n",
       "36705       1\n",
       "57351       1\n",
       "152936     12\n",
       "191170      4\n",
       "Name: number_of_reviews, Length: 316, dtype: int64"
      ]
     },
     "execution_count": 37,
     "metadata": {},
     "output_type": "execute_result"
    }
   ],
   "source": [
    "data_df.groupby(data_df[\"price\"])[\"number_of_reviews\"].sum()"
   ]
  },
  {
   "cell_type": "code",
   "execution_count": null,
   "metadata": {},
   "outputs": [],
   "source": []
  }
 ],
 "metadata": {
  "kernelspec": {
   "display_name": "Python 3",
   "language": "python",
   "name": "python3"
  },
  "language_info": {
   "codemirror_mode": {
    "name": "ipython",
    "version": 3
   },
   "file_extension": ".py",
   "mimetype": "text/x-python",
   "name": "python",
   "nbconvert_exporter": "python",
   "pygments_lexer": "ipython3",
   "version": "3.7.4"
  }
 },
 "nbformat": 4,
 "nbformat_minor": 2
}
