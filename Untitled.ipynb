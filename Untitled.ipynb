{
 "cells": [
  {
   "cell_type": "code",
   "execution_count": 1,
   "metadata": {},
   "outputs": [],
   "source": [
    "import pandas as pd\n",
    "import csv\n",
    "import os"
   ]
  },
  {
   "cell_type": "code",
   "execution_count": 17,
   "metadata": {},
   "outputs": [
    {
     "data": {
      "text/plain": [
       "<bound method NDFrame.describe of              id                                               name    host_id  \\\n",
       "1         22787  Sunny suite w/ queen size bed, inside boutique...      87973   \n",
       "4         44616                                  CONDESA HAUS  B&B     196253   \n",
       "5         58955                 Entire beautiful duplex in la Roma     282620   \n",
       "6         61792  Spacious Clean Quiet room (own bath) in la Con...     299558   \n",
       "7         67703                  2 bedroom apt. deco bldg, Condesa     334451   \n",
       "...         ...                                                ...        ...   \n",
       "18873  35846543  Welcome to Casa Frida in Reforma! cozy & charming   38718760   \n",
       "18900  35883527        Tranquila habitación a una calle de Reforma   92679034   \n",
       "18914  35897425                           Private bed and bathroom   53026653   \n",
       "18921  35905300    Trendiest PLACE w/ ROOM in the heart of La ROMA  108732399   \n",
       "18956  35933067   Apartamento nuevo, seguro, cerca de IPN/hospital  122409026   \n",
       "\n",
       "                                host_name      neighbourhood  latitude  \\\n",
       "1                                   Diego         Cuauhtémoc  19.44076   \n",
       "4      Condesa Haus Bed & Breakfast  CDMX         Cuauhtémoc  19.41006   \n",
       "5                                     Nat         Cuauhtémoc  19.42292   \n",
       "6                                 Roberto         Cuauhtémoc  19.41259   \n",
       "7                                Nicholas         Cuauhtémoc  19.41375   \n",
       "...                                   ...                ...       ...   \n",
       "18873                               Laila         Cuauhtémoc  19.43128   \n",
       "18900                               Julio         Cuauhtémoc  19.42233   \n",
       "18914                              Julien         Cuauhtémoc  19.43039   \n",
       "18921                              Miguel         Cuauhtémoc  19.41704   \n",
       "18956                              Carlos  Gustavo A. Madero  19.51430   \n",
       "\n",
       "       longitude        room_type  price  minimum_nights  number_of_reviews  \\\n",
       "1      -99.16324     Private room   1969               1                 57   \n",
       "4      -99.17645     Private room   1893               1                 39   \n",
       "5      -99.15775  Entire home/apt   1625               3                 39   \n",
       "6      -99.17959     Private room    956               2                 51   \n",
       "7      -99.17028  Entire home/apt   1816               2                 39   \n",
       "...          ...              ...    ...             ...                ...   \n",
       "18873  -99.16173  Entire home/apt   1243               1                  1   \n",
       "18900  -99.17456     Private room    268               1                  1   \n",
       "18914  -99.17007     Private room    497               2                  1   \n",
       "18921  -99.16011     Private room    478               1                  1   \n",
       "18956  -99.13059  Entire home/apt    746               1                  2   \n",
       "\n",
       "      last_review  reviews_per_month  calculated_host_listings_count  \\\n",
       "1      2019-05-27               0.52                               9   \n",
       "4      2019-05-02               0.42                              10   \n",
       "5      2019-05-28               0.43                               1   \n",
       "6      2019-04-05               2.55                               3   \n",
       "7      2019-02-24               0.42                               3   \n",
       "...           ...                ...                             ...   \n",
       "18873  2019-06-23               1.00                               1   \n",
       "18900  2019-06-23               1.00                               3   \n",
       "18914  2019-06-21               1.00                               1   \n",
       "18921  2019-06-23               1.00                               2   \n",
       "18956  2019-06-23               2.00                               2   \n",
       "\n",
       "       availability_365  \n",
       "1                   355  \n",
       "4                   334  \n",
       "5                   178  \n",
       "6                   180  \n",
       "7                   361  \n",
       "...                 ...  \n",
       "18873                76  \n",
       "18900               358  \n",
       "18914                66  \n",
       "18921               315  \n",
       "18956               363  \n",
       "\n",
       "[14154 rows x 15 columns]>"
      ]
     },
     "execution_count": 17,
     "metadata": {},
     "output_type": "execute_result"
    }
   ],
   "source": [
    "data_df = pd.read_csv(\"listings1.csv\")\n",
    "data_df = data_df.drop(\"neighbourhood_group\", axis = 1)\n",
    "data_df = data_df.dropna()\n",
    "data_df.describe"
   ]
  },
  {
   "cell_type": "code",
   "execution_count": null,
   "metadata": {},
   "outputs": [],
   "source": []
  }
 ],
 "metadata": {
  "kernelspec": {
   "display_name": "Python 3",
   "language": "python",
   "name": "python3"
  },
  "language_info": {
   "codemirror_mode": {
    "name": "ipython",
    "version": 3
   },
   "file_extension": ".py",
   "mimetype": "text/x-python",
   "name": "python",
   "nbconvert_exporter": "python",
   "pygments_lexer": "ipython3",
   "version": "3.7.4"
  }
 },
 "nbformat": 4,
 "nbformat_minor": 2
}
